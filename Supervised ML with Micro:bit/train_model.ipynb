{
 "cells": [
  {
   "cell_type": "markdown",
   "metadata": {},
   "source": [
    "## Training the machine learning model"
   ]
  },
  {
   "cell_type": "markdown",
   "metadata": {},
   "source": [
    "### The purpose of this file"
   ]
  },
  {
   "cell_type": "markdown",
   "metadata": {},
   "source": [
    "This workbook has been designed to train different machine learning models on the <i>final dataset</i> created in <i>Managing_data.ipynb</i> and to choose the best performing one. \n",
    "In this workbook I \n",
    "- preprocess the data (check distribution,carry out log transformation if necessary, choose one from normalisation or standardisation);\n",
    "- split the prepared dataset into train and test dataset;\n",
    "- define metrics to test the performance of the model trained later in this workbook;\n",
    "- create a general function to train and test the model;\n",
    "- compare and contrast the perfromance of the different models and I choose one to test it in front of the class live."
   ]
  },
  {
   "cell_type": "markdown",
   "metadata": {},
   "source": [
    "### Importing libraries"
   ]
  },
  {
   "cell_type": "code",
   "execution_count": 1,
   "metadata": {},
   "outputs": [],
   "source": [
    "# general libraries\n",
    "import pandas as pd\n",
    "import numpy as np\n",
    "from matplotlib import pyplot as plt\n",
    "%matplotlib notebook\n",
    "import time as t\n",
    "\n",
    "# preprocessing\n",
    "from sklearn.preprocessing import MinMaxScaler, StandardScaler\n",
    "\n",
    "#train-test-split\n",
    "from sklearn.model_selection import train_test_split\n",
    "\n",
    "# metrics scores\n",
    "from sklearn.metrics import precision_score, recall_score, f1_score\n"
   ]
  },
  {
   "cell_type": "code",
   "execution_count": 58,
   "metadata": {},
   "outputs": [
    {
     "data": {
      "text/html": [
       "<div>\n",
       "<style scoped>\n",
       "    .dataframe tbody tr th:only-of-type {\n",
       "        vertical-align: middle;\n",
       "    }\n",
       "\n",
       "    .dataframe tbody tr th {\n",
       "        vertical-align: top;\n",
       "    }\n",
       "\n",
       "    .dataframe thead th {\n",
       "        text-align: right;\n",
       "    }\n",
       "</style>\n",
       "<table border=\"1\" class=\"dataframe\">\n",
       "  <thead>\n",
       "    <tr style=\"text-align: right;\">\n",
       "      <th></th>\n",
       "      <th>r_x</th>\n",
       "      <th>r_y</th>\n",
       "      <th>r_ang</th>\n",
       "      <th>id</th>\n",
       "    </tr>\n",
       "  </thead>\n",
       "  <tbody>\n",
       "    <tr>\n",
       "      <th>0</th>\n",
       "      <td>16.5</td>\n",
       "      <td>4.4</td>\n",
       "      <td>-18.5</td>\n",
       "      <td>0</td>\n",
       "    </tr>\n",
       "    <tr>\n",
       "      <th>1</th>\n",
       "      <td>19.5</td>\n",
       "      <td>5.2</td>\n",
       "      <td>1.1</td>\n",
       "      <td>0</td>\n",
       "    </tr>\n",
       "    <tr>\n",
       "      <th>2</th>\n",
       "      <td>19.5</td>\n",
       "      <td>4.5</td>\n",
       "      <td>6.5</td>\n",
       "      <td>0</td>\n",
       "    </tr>\n",
       "    <tr>\n",
       "      <th>3</th>\n",
       "      <td>12.4</td>\n",
       "      <td>15.9</td>\n",
       "      <td>107.3</td>\n",
       "      <td>1</td>\n",
       "    </tr>\n",
       "    <tr>\n",
       "      <th>4</th>\n",
       "      <td>20.4</td>\n",
       "      <td>28.9</td>\n",
       "      <td>355.8</td>\n",
       "      <td>2</td>\n",
       "    </tr>\n",
       "  </tbody>\n",
       "</table>\n",
       "</div>"
      ],
      "text/plain": [
       "    r_x   r_y  r_ang  id\n",
       "0  16.5   4.4  -18.5   0\n",
       "1  19.5   5.2    1.1   0\n",
       "2  19.5   4.5    6.5   0\n",
       "3  12.4  15.9  107.3   1\n",
       "4  20.4  28.9  355.8   2"
      ]
     },
     "execution_count": 58,
     "metadata": {},
     "output_type": "execute_result"
    }
   ],
   "source": [
    "# reading the data\n",
    "\n",
    "df = pd.read_csv('final_dataset.csv')\n",
    "df.drop(columns = 'Unnamed: 0', inplace = True)\n",
    "df.head()"
   ]
  },
  {
   "cell_type": "code",
   "execution_count": 59,
   "metadata": {},
   "outputs": [
    {
     "data": {
      "image/png": "[encoded data removed]",
      "text/plain": [
       "<Figure size 864x288 with 3 Axes>"
      ]
     },
     "metadata": {
      "needs_background": "light"
     },
     "output_type": "display_data"
    }
   ],
   "source": [
    "# checking the distribution of the data ( along all the 3 axes)\n",
    "\n",
    "fig, axes = plt.subplots(1,3, figsize = (12,4))\n",
    "\n",
    "columns = ['r_x', 'r_y', 'r_ang']\n",
    "\n",
    "def distribution(df,columns,i):\n",
    "    axes[i].hist(df[columns[i]], bins = 20)\n",
    "    axes[i].set_title(f'The distribution of {columns[i]}')\n",
    "    axes[i].set_xlabel('bins')\n",
    "    axes[i].set_ylabel('number of records')\n",
    "    \n",
    "    \n",
    "for i in range(3):\n",
    "     distribution(df,columns, i)\n",
    "\n",
    "plt.show()\n"
   ]
  },
  {
   "cell_type": "code",
   "execution_count": 60,
   "metadata": {},
   "outputs": [
    {
     "data": {
      "image/png": "[encoded data removed]",
      "text/plain": [
       "<Figure size 720x288 with 2 Axes>"
      ]
     },
     "metadata": {
      "needs_background": "light"
     },
     "output_type": "display_data"
    },
    {
     "name": "stdout",
     "output_type": "stream",
     "text": [
      "Are you happy with the new distribution? Y/ny\n"
     ]
    },
    {
     "data": {
      "text/html": [
       "<div>\n",
       "<style scoped>\n",
       "    .dataframe tbody tr th:only-of-type {\n",
       "        vertical-align: middle;\n",
       "    }\n",
       "\n",
       "    .dataframe tbody tr th {\n",
       "        vertical-align: top;\n",
       "    }\n",
       "\n",
       "    .dataframe thead th {\n",
       "        text-align: right;\n",
       "    }\n",
       "</style>\n",
       "<table border=\"1\" class=\"dataframe\">\n",
       "  <thead>\n",
       "    <tr style=\"text-align: right;\">\n",
       "      <th></th>\n",
       "      <th>r_x</th>\n",
       "      <th>r_y</th>\n",
       "      <th>r_ang</th>\n",
       "      <th>id</th>\n",
       "    </tr>\n",
       "  </thead>\n",
       "  <tbody>\n",
       "    <tr>\n",
       "      <th>0</th>\n",
       "      <td>16.5</td>\n",
       "      <td>1.481605</td>\n",
       "      <td>2.917771</td>\n",
       "      <td>0</td>\n",
       "    </tr>\n",
       "    <tr>\n",
       "      <th>1</th>\n",
       "      <td>19.5</td>\n",
       "      <td>1.648659</td>\n",
       "      <td>0.095310</td>\n",
       "      <td>0</td>\n",
       "    </tr>\n",
       "    <tr>\n",
       "      <th>2</th>\n",
       "      <td>19.5</td>\n",
       "      <td>1.504077</td>\n",
       "      <td>1.871802</td>\n",
       "      <td>0</td>\n",
       "    </tr>\n",
       "    <tr>\n",
       "      <th>3</th>\n",
       "      <td>12.4</td>\n",
       "      <td>2.766319</td>\n",
       "      <td>4.675629</td>\n",
       "      <td>1</td>\n",
       "    </tr>\n",
       "    <tr>\n",
       "      <th>4</th>\n",
       "      <td>20.4</td>\n",
       "      <td>3.363842</td>\n",
       "      <td>5.874369</td>\n",
       "      <td>2</td>\n",
       "    </tr>\n",
       "  </tbody>\n",
       "</table>\n",
       "</div>"
      ],
      "text/plain": [
       "    r_x       r_y     r_ang  id\n",
       "0  16.5  1.481605  2.917771   0\n",
       "1  19.5  1.648659  0.095310   0\n",
       "2  19.5  1.504077  1.871802   0\n",
       "3  12.4  2.766319  4.675629   1\n",
       "4  20.4  3.363842  5.874369   2"
      ]
     },
     "execution_count": 60,
     "metadata": {},
     "output_type": "execute_result"
    }
   ],
   "source": [
    "\"\"\"\n",
    "If the distribution of the features is skewed, log transformation can help approach the normal distribution.\n",
    "After checking the distribution of the features above, you can choose the features that should be log transformed.\n",
    "Please type the name of columns below, into the list called features and run the cell. Check whether the transformation\n",
    "helped forming a normal like distribution. If yes, you can modify the original dataframe.\n",
    "For features, please put the name(s) of the column(s) (e.g. 'r_x') in the list called features. \n",
    "\"\"\"\n",
    "\n",
    "#defining a function for log transformation\n",
    "def log_transform(features):\n",
    "    temp_fr = pd.DataFrame(data = df[features])\n",
    "    temp_fr_log = temp_fr.apply(lambda x: np.log(np.abs(x)))\n",
    "    return temp_fr_log\n",
    "\n",
    "# Add the names of the features to log transform\n",
    "features = ['r_y', 'r_ang'] # you can choose different features and replace mine choice in the list\n",
    "temp_fr_log = log_transform(features)\n",
    "\n",
    "\n",
    "#plotting the transformed data\n",
    "if len(features) ==1:\n",
    "    fig = plt.figure(figsize = (10,4))\n",
    "    axes = fig.add_axes([0,0,1,1])\n",
    "    axes.hist(temp_fr_log, bins = 5)\n",
    "    axes.set_title(f'The distribution of {features[0]}')\n",
    "    axes.set_xlabel('bins')\n",
    "    axes.set_ylabel('number of records')\n",
    "else:\n",
    "    fig, axes = plt.subplots(1,len(features), figsize = (10, 4))\n",
    "    for i in range(temp_fr_log.shape[1]):\n",
    "        distribution(temp_fr_log,temp_fr_log.columns, i)\n",
    "plt.show()\n",
    "\n",
    "# modify the original dataframe if necessary\n",
    "change = input(\"Are you happy with the new distribution? Y/n\")\n",
    "if change!= 'n':\n",
    "    for feature in features:\n",
    "        df[feature] = temp_fr_log[feature]\n",
    "\n",
    "df.head()\n"
   ]
  },
  {
   "cell_type": "markdown",
   "metadata": {},
   "source": [
    "### Standardising or normalising the data"
   ]
  },
  {
   "cell_type": "markdown",
   "metadata": {},
   "source": [
    "Before training the machine learning model against the data, it is worth to standardise or normalise it to achive a better performance.. \n",
    "A <b>normalised data</b> means that all data instances are converted to a number between 0 and 1 so all the numbers will be in the same order or magnitude. It can be done by min-max caling using the formula\n",
    "\n",
    "$x_{n}^{i}$ = $\\frac{x_{i} - x_{min}}{x_{max} - x_{min}}$.\n",
    "\n",
    "<b> Standardising the data </b> is often more useful to train an accurate ML model. Standardisation means that we convert the dataset to a form for which the mean is 0 and the standard deviation is 1. The formula for standardisation is\n",
    "\n",
    "$x_{std}^{i}$ = $\\frac{x_{i} - \\mu_{x}}{\\sigma_{x}}$.\n",
    "\n",
    "In the next two cells you can either normalise or standardise the dataset before training the ML algorithm.\n",
    "<b> Feautures are r_x, r_y and r_ang but not <i>id</i> because latter is target data. </b>"
   ]
  },
  {
   "cell_type": "code",
   "execution_count": 4,
   "metadata": {},
   "outputs": [],
   "source": [
    "def normalise(features):\n",
    "    normal = MinMaxScaler()\n",
    "    features_norm = normal.fit_transform(features)\n",
    "    return features_norm\n",
    "\n"
   ]
  },
  {
   "cell_type": "code",
   "execution_count": 5,
   "metadata": {},
   "outputs": [],
   "source": [
    "def standardise(features):\n",
    "    scaler = StandardScaler()\n",
    "    features_scaled = scaler.fit_transform(features)\n",
    "    return features_scaled"
   ]
  },
  {
   "cell_type": "code",
   "execution_count": 61,
   "metadata": {},
   "outputs": [
    {
     "data": {
      "text/plain": [
       "(195, 3)"
      ]
     },
     "execution_count": 61,
     "metadata": {},
     "output_type": "execute_result"
    }
   ],
   "source": [
    "# use one of the scaling method before getting to the ML algorithms\n",
    "\n",
    "data_scaled = standardise(df[['r_x', 'r_y', 'r_ang']])\n",
    "data_scaled.shape"
   ]
  },
  {
   "cell_type": "markdown",
   "metadata": {},
   "source": [
    "### Splitting the data sets to train and test sets"
   ]
  },
  {
   "cell_type": "markdown",
   "metadata": {},
   "source": [
    "In this section I split the dataset into train and test dataset. Features are df[['r_x, 'r_y', 'r_ang']] and the target is df['id']. Calling the function below you can choose the ratio of the size of the test and train dataset. I chose 20% test and 80% train size but it can easily be changed."
   ]
  },
  {
   "cell_type": "code",
   "execution_count": 7,
   "metadata": {},
   "outputs": [],
   "source": [
    "# split the data set to train and test dataset, adding the ratio of the size of train and test sets\n",
    "\n",
    "def split_data(data_scaled,target,ratio):\n",
    "    X_train, X_test, y_train, y_test = train_test_split(data_scaled, target, test_size = ratio, random_state =42)\n",
    "    \n",
    "    print(f'The train set has {X_train.shape[0]} elements')\n",
    "    print(f'The test set has {X_test.shape[0]} elements')\n",
    "    \n",
    "    return X_train, X_test, y_train, y_test"
   ]
  },
  {
   "cell_type": "code",
   "execution_count": 62,
   "metadata": {},
   "outputs": [
    {
     "name": "stdout",
     "output_type": "stream",
     "text": [
      "What proprotion of the dataset would you like to use as test dataset? (0.0-1.0)0.2\n",
      "The train set has 156 elements\n",
      "The test set has 39 elements\n"
     ]
    }
   ],
   "source": [
    "# target = df['id'], ratio = the ratio of the size of the test set related to the entire dataset\n",
    "\n",
    "ratio = input('What proprotion of the dataset would you like to use as test dataset? (0.0-1.0)')\n",
    "\n",
    "X_train, X_test, y_train, y_test = split_data(data_scaled, df['id'], float(ratio))"
   ]
  },
  {
   "cell_type": "markdown",
   "metadata": {},
   "source": [
    "### Choosing metrics to test the performance of the algorithms"
   ]
  },
  {
   "cell_type": "markdown",
   "metadata": {},
   "source": [
    "Before training the ML models, it is worth to choose metrics to monitor the model's preformance and tune hypermarameters to obtain the best performance.\n",
    "The most used metrics are precision, recall and F1 scores, so I will choose those too.\n",
    "\n",
    "<b>Precision</b> is the metrics that tells the propirtion of true positive predicition among the postitive predictions, so \n",
    "precision = $\\frac{true positive}{true positive + false positive}$ \n",
    "\n",
    "<b>Recall</b> is the ratio of true positive predictions among the real positive test data instances, so \n",
    "recall = $\\frac{true positive}{true positive + false negative}$ \n",
    "\n",
    "<b>F1 score</b> is formed as a combination of recall and precision as follows:\n",
    "F1 score = 2$\\frac{precision x recall}{precision + recall}$\n",
    "\n",
    "In the cells below, I design three functions to get the mentioned metrics scores. I will call those functions after training the ML models to check, how well it performs. "
   ]
  },
  {
   "cell_type": "code",
   "execution_count": 9,
   "metadata": {},
   "outputs": [],
   "source": [
    "# define precision score\n",
    "\n",
    "def precision(y_true, y_pred):\n",
    "    precision = precision_score(y_true = y_true, y_pred = y_pred, average = 'macro')\n",
    "    return precision"
   ]
  },
  {
   "cell_type": "code",
   "execution_count": 10,
   "metadata": {},
   "outputs": [],
   "source": [
    "# define recall score\n",
    "\n",
    "def recall(y_true, y_pred):\n",
    "    recall = recall_score(y_true = y_true, y_pred = y_pred, average = 'macro')\n",
    "    return recall"
   ]
  },
  {
   "cell_type": "code",
   "execution_count": 11,
   "metadata": {},
   "outputs": [],
   "source": [
    "# define F1 score\n",
    "\n",
    "def f1(y_true, y_pred):\n",
    "    f1 =f1_score(y_true = y_true, y_pred = y_pred, average = 'macro')\n",
    "    return f1"
   ]
  },
  {
   "cell_type": "markdown",
   "metadata": {},
   "source": [
    "### Training the Machine Learning models"
   ]
  },
  {
   "cell_type": "markdown",
   "metadata": {},
   "source": [
    "In this section, I will train four different machine learning models: <b><i> support vector machine </i></b> model, <b><i> decision tree </i></b> model, <b><i> random forest </i></b> model and the <b><i> K nearest algorithm  </i></b>. I don't want to detail how those models work, but the book <i> Python Machine Learning </i> by <i> Sebastian Raschka </i> and <i> Vahid Mirjalili </i> gives a great insight into the working principles of them. I chose those algorithms because I feel that they are the best in a classification problem I presented with the last graph in the workbook <i> Managing_data.ipynb</i>. \n",
    "\n",
    "I train and test each model in a different section, but I will summarize their performance to choose the model which will be used live in the classroom. The choice depends on how accurately the model works and how fast it does its job.\n"
   ]
  },
  {
   "cell_type": "markdown",
   "metadata": {},
   "source": [
    "### General function for training and testing"
   ]
  },
  {
   "cell_type": "code",
   "execution_count": 12,
   "metadata": {},
   "outputs": [],
   "source": [
    "'''\n",
    "\n",
    "Description:\n",
    "This function is for training the ML model and test its performance. I will call the function with all the ML algorithms\n",
    "mentioned above and test how well and how fast they perform. \n",
    "I also would like to show how important it is to train the model against larger amount of data and how its perfomance is\n",
    "affected by the size of the test dataset. Therefore, I add a new parameter called sample_size to the function.\n",
    "\n",
    "Argument: \n",
    "1. learner: the ML algorithm object\n",
    "2. learner_name: the learner's name as a string\n",
    "2. sample_size: the percentage of the size of the training dataset (e.g. 10% = 0.1)\n",
    "3. X_train: feature train dataset\n",
    "4. X_test : feature test dataset\n",
    "5. y_train: target train dataset\n",
    "6. y_test: target test dataset\n",
    "\n",
    "Returns: precision_score, recall_score, F1_score and performance time to the learner, and the different sample_size\n",
    "'''\n",
    "\n",
    "def train_predict(learner,learner_name, sample_size, X_train, X_test, y_train, y_test):\n",
    "    \n",
    "    # train the model and make prediction\n",
    "    start = t.time()\n",
    "    sample_size = int(sample_size*X_train.shape[0])\n",
    "    print(f'The training set has {sample_size} elements out of the {X_train.shape[0]} elements.')\n",
    "    learner = learner.fit(X_train[:sample_size], y_train[:sample_size])\n",
    "    prediction_test = learner.predict(X_test)\n",
    "    end = t.time()\n",
    "    \n",
    "    time_taken = end - start\n",
    "    \n",
    "    # add accuracy scores\n",
    "    precision_score = precision(y_test, prediction_test)\n",
    "    recall_score = recall(y_test, prediction_test)\n",
    "    F1_score = f1(y_test, prediction_test)\n",
    "    \n",
    "    return [learner_name, sample_size, X_train.shape[0], precision_score, recall_score, F1_score, time_taken]\n",
    "\n"
   ]
  },
  {
   "cell_type": "markdown",
   "metadata": {},
   "source": [
    "### Support Vector Machine Model"
   ]
  },
  {
   "cell_type": "code",
   "execution_count": 70,
   "metadata": {},
   "outputs": [
    {
     "name": "stdout",
     "output_type": "stream",
     "text": [
      "The training set has 78 elements out of the 156 elements.\n",
      "The training set has 109 elements out of the 156 elements.\n",
      "The training set has 124 elements out of the 156 elements.\n",
      "The training set has 156 elements out of the 156 elements.\n",
      "The accuracy data in a table: \n",
      "   name  sample  train set  precision  recall   F1      time\n",
      "0  SVM      78        156        1.0     1.0  1.0  0.005984\n",
      "1  SVM     109        156        1.0     1.0  1.0  0.003990\n",
      "2  SVM     124        156        1.0     1.0  1.0  0.002995\n",
      "3  SVM     156        156        1.0     1.0  1.0  0.004984\n"
     ]
    },
    {
     "name": "stderr",
     "output_type": "stream",
     "text": [
      "C:\\ProgramData\\Anaconda3\\lib\\site-packages\\sklearn\\svm\\base.py:196: FutureWarning: The default value of gamma will change from 'auto' to 'scale' in version 0.22 to account better for unscaled features. Set gamma explicitly to 'auto' or 'scale' to avoid this warning.\n",
      "  \"avoid this warning.\", FutureWarning)\n",
      "C:\\ProgramData\\Anaconda3\\lib\\site-packages\\sklearn\\svm\\base.py:196: FutureWarning: The default value of gamma will change from 'auto' to 'scale' in version 0.22 to account better for unscaled features. Set gamma explicitly to 'auto' or 'scale' to avoid this warning.\n",
      "  \"avoid this warning.\", FutureWarning)\n",
      "C:\\ProgramData\\Anaconda3\\lib\\site-packages\\sklearn\\svm\\base.py:196: FutureWarning: The default value of gamma will change from 'auto' to 'scale' in version 0.22 to account better for unscaled features. Set gamma explicitly to 'auto' or 'scale' to avoid this warning.\n",
      "  \"avoid this warning.\", FutureWarning)\n",
      "C:\\ProgramData\\Anaconda3\\lib\\site-packages\\sklearn\\svm\\base.py:196: FutureWarning: The default value of gamma will change from 'auto' to 'scale' in version 0.22 to account better for unscaled features. Set gamma explicitly to 'auto' or 'scale' to avoid this warning.\n",
      "  \"avoid this warning.\", FutureWarning)\n"
     ]
    }
   ],
   "source": [
    "# creating the support vector machine object\n",
    "from sklearn.svm import SVC\n",
    "\n",
    "learner = SVC(kernel = 'rbf', C = 1, random_state = 42)\n",
    "learner_name = 'SVM'\n",
    "sample_size = [0.5, 0.7, 0.8, 1.0]\n",
    "\n",
    "#training the model for different sample size and testing it for precision, recall, f1-score and time\n",
    "accuracy_list = []\n",
    "for size in sample_size:\n",
    "    to_list = train_predict(learner, learner_name, size, X_train, X_test, y_train, y_test)\n",
    "    accuracy_list.append(to_list)\n",
    "\n",
    "frame_SVM = pd.DataFrame(data = accuracy_list, columns = ['name', 'sample', 'train set', 'precision', 'recall', 'F1', 'time'])\n",
    "print('The accuracy data in a table: \\n', frame_SVM)\n",
    "\n",
    "# print some graphs later"
   ]
  },
  {
   "cell_type": "markdown",
   "metadata": {},
   "source": [
    "### Decesion tree"
   ]
  },
  {
   "cell_type": "code",
   "execution_count": 64,
   "metadata": {},
   "outputs": [
    {
     "name": "stdout",
     "output_type": "stream",
     "text": [
      "The training set has 78 elements out of the 156 elements.\n",
      "The training set has 109 elements out of the 156 elements.\n",
      "The training set has 124 elements out of the 156 elements.\n",
      "The training set has 156 elements out of the 156 elements.\n",
      "The accuracy data in a table: \n",
      "             name  sample  train set  precision    recall        F1      time\n",
      "0  Decision Tree      78        156   0.944444  0.962963  0.950089  0.009945\n",
      "1  Decision Tree     109        156   0.873294  0.862963  0.867236  0.001993\n",
      "2  Decision Tree     124        156   0.969697  0.981481  0.974603  0.001995\n",
      "3  Decision Tree     156        156   0.969697  0.981481  0.974603  0.003989\n"
     ]
    }
   ],
   "source": [
    "# creating the decision tree object\n",
    "from sklearn.tree import DecisionTreeClassifier\n",
    "\n",
    "learner = DecisionTreeClassifier(criterion = 'gini', max_depth = 2, random_state = 42)\n",
    "learner_name = 'Decision Tree'\n",
    "sample_size = [0.5, 0.7, 0.8, 1.0]\n",
    "\n",
    "#training the model for different sample size and testing it for precision, recall, f1-score and time\n",
    "accuracy_list = []\n",
    "for size in sample_size:\n",
    "    to_list = train_predict(learner, learner_name, size, X_train, X_test, y_train, y_test)\n",
    "    accuracy_list.append(to_list)\n",
    "    \n",
    "\n",
    "frame_DT = pd.DataFrame(data = accuracy_list, columns = ['name', 'sample', 'train set', 'precision', 'recall', 'F1', 'time'])\n",
    "print('The accuracy data in a table: \\n', frame_DT)\n",
    "\n",
    "# print some graphs later"
   ]
  },
  {
   "cell_type": "markdown",
   "metadata": {},
   "source": [
    "### Random forest classifier"
   ]
  },
  {
   "cell_type": "code",
   "execution_count": 65,
   "metadata": {},
   "outputs": [
    {
     "name": "stdout",
     "output_type": "stream",
     "text": [
      "The training set has 78 elements out of the 156 elements.\n",
      "The training set has 109 elements out of the 156 elements.\n",
      "The training set has 124 elements out of the 156 elements.\n",
      "The training set has 156 elements out of the 156 elements.\n",
      "The accuracy data in a table: \n",
      "             name  sample  train set  precision    recall        F1      time\n",
      "0  Random Forest      78        156   0.969697  0.981481  0.974603  0.018926\n",
      "1  Random Forest     109        156   0.969697  0.981481  0.974603  0.023918\n",
      "2  Random Forest     124        156   0.969697  0.981481  0.974603  0.011980\n",
      "3  Random Forest     156        156   0.969697  0.981481  0.974603  0.008974\n"
     ]
    }
   ],
   "source": [
    "# creating the random forest classifier object\n",
    "from sklearn.ensemble import RandomForestClassifier\n",
    "\n",
    "learner = RandomForestClassifier(n_estimators = 10, criterion = 'gini', max_depth = 2, random_state = 42)\n",
    "learner_name = 'Random Forest'\n",
    "sample_size = [0.5, 0.7, 0.8, 1.0]\n",
    "\n",
    "#training the model for different sample size and testing it for precision, recall, f1-score and time\n",
    "accuracy_list = []\n",
    "for size in sample_size:\n",
    "    to_list = train_predict(learner, learner_name, size, X_train, X_test, y_train, y_test)\n",
    "    accuracy_list.append(to_list)\n",
    "    \n",
    "\n",
    "frame_RF = pd.DataFrame(data = accuracy_list, columns = ['name', 'sample', 'train set', 'precision', 'recall', 'F1', 'time'])\n",
    "print('The accuracy data in a table: \\n', frame_RF)\n",
    "\n",
    "# print some graphs later"
   ]
  },
  {
   "cell_type": "markdown",
   "metadata": {},
   "source": [
    "### K-nearest algorithm"
   ]
  },
  {
   "cell_type": "code",
   "execution_count": 66,
   "metadata": {},
   "outputs": [
    {
     "name": "stdout",
     "output_type": "stream",
     "text": [
      "The training set has 78 elements out of the 156 elements.\n",
      "The training set has 109 elements out of the 156 elements.\n",
      "The training set has 124 elements out of the 156 elements.\n",
      "The training set has 156 elements out of the 156 elements.\n",
      "The accuracy data in a table: \n",
      "         name  sample  train set  precision    recall        F1      time\n",
      "0  K-mearest      78        156   0.972222  0.966667  0.967963  0.012965\n",
      "1  K-mearest     109        156   0.972222  0.966667  0.967963  0.011982\n",
      "2  K-mearest     124        156   0.972222  0.966667  0.967963  0.011969\n",
      "3  K-mearest     156        156   0.972222  0.966667  0.967963  0.004027\n"
     ]
    }
   ],
   "source": [
    "# creating the random forest classifier object\n",
    "from sklearn.neighbors import KNeighborsClassifier\n",
    "\n",
    "learner = KNeighborsClassifier(n_neighbors = 5, p = 2)\n",
    "learner_name = 'K-mearest'\n",
    "sample_size = [0.5, 0.7, 0.8, 1.0]\n",
    "\n",
    "#training the model for different sample size and testing it for precision, recall, f1-score and time\n",
    "accuracy_list = []\n",
    "for size in sample_size:\n",
    "    to_list = train_predict(learner, learner_name, size, X_train, X_test, y_train, y_test)\n",
    "    accuracy_list.append(to_list)\n",
    "    \n",
    "\n",
    "frame_K = pd.DataFrame(data = accuracy_list, columns = ['name', 'sample', 'train set', 'precision', 'recall', 'F1', 'time'])\n",
    "print('The accuracy data in a table: \\n', frame_K)\n",
    "\n",
    "# print some graphs later"
   ]
  },
  {
   "cell_type": "markdown",
   "metadata": {},
   "source": [
    "## Conclusion"
   ]
  },
  {
   "cell_type": "markdown",
   "metadata": {},
   "source": [
    "### Comparing the preformance of a model against train sample size"
   ]
  },
  {
   "cell_type": "markdown",
   "metadata": {},
   "source": [
    "As we expected, training the model against a larger train data set results better performance of the model. Although all four models performed very well because of our small and clean dataset (major noises had been cleared out by manual check of each data file), some improvement can be shown when inceasing the train data set. See the code and the graph below for Decision Tree Classifier."
   ]
  },
  {
   "cell_type": "code",
   "execution_count": 67,
   "metadata": {},
   "outputs": [
    {
     "data": {
      "text/plain": [
       "Text(0.5, 1.0, 'The of time taken to train the model against the number of train samples')"
      ]
     },
     "execution_count": 67,
     "metadata": {},
     "output_type": "execute_result"
    },
    {
     "data": {
      "image/png": "[encoded data removed]",
      "text/plain": [
       "<Figure size 1080x720 with 2 Axes>"
      ]
     },
     "metadata": {
      "needs_background": "light"
     },
     "output_type": "display_data"
    }
   ],
   "source": [
    "# plot precision, recall, f1 and time against sample size\n",
    "fig, axes = plt.subplots(1, 2, figsize = (15, 10))\n",
    "\n",
    "axes[0].plot(frame_DT['sample'], frame_DT['F1'], c = 'r', marker = 'o')\n",
    "axes[0].set_title('The variation of F1 score against the number of train samples')\n",
    "axes[0].set_xlabel('Number of training samples')\n",
    "axes[0].set_ylabel('F1-score')\n",
    "\n",
    "axes[1].plot(frame_DT['sample'], frame_DT['time'], c = 'b', marker = 'x')\n",
    "axes[1].set_xlabel('Number of training samples')\n",
    "axes[1].set_ylabel('Time taken for training the model')\n",
    "axes[1].set_title('The of time taken to train the model against the number of train samples')\n",
    "\n"
   ]
  },
  {
   "cell_type": "markdown",
   "metadata": {},
   "source": [
    "### Comparing the performance of each model"
   ]
  },
  {
   "cell_type": "markdown",
   "metadata": {},
   "source": [
    "The graphs above show neatly that increasing the number of training samples causes an improvement in accuracy (precision, recall and F1 score). Even if the training time goes slighly up, considering that our dataset is small, we can choose the maximum possible train set to train the model on. In this section we choose the \"final\" model that will be used to the live test. \n",
    "I choose the last row of each data frame that shows the performace of the different models to be able to come to a decision about the best possible one."
   ]
  },
  {
   "cell_type": "code",
   "execution_count": 68,
   "metadata": {},
   "outputs": [
    {
     "data": {
      "text/html": [
       "<div>\n",
       "<style scoped>\n",
       "    .dataframe tbody tr th:only-of-type {\n",
       "        vertical-align: middle;\n",
       "    }\n",
       "\n",
       "    .dataframe tbody tr th {\n",
       "        vertical-align: top;\n",
       "    }\n",
       "\n",
       "    .dataframe thead th {\n",
       "        text-align: right;\n",
       "    }\n",
       "</style>\n",
       "<table border=\"1\" class=\"dataframe\">\n",
       "  <thead>\n",
       "    <tr style=\"text-align: right;\">\n",
       "      <th></th>\n",
       "      <th>name</th>\n",
       "      <th>precision</th>\n",
       "      <th>recall</th>\n",
       "      <th>F1</th>\n",
       "      <th>time</th>\n",
       "    </tr>\n",
       "  </thead>\n",
       "  <tbody>\n",
       "    <tr>\n",
       "      <th>0</th>\n",
       "      <td>SVM</td>\n",
       "      <td>1.000000</td>\n",
       "      <td>1.000000</td>\n",
       "      <td>1.000000</td>\n",
       "      <td>0.006881</td>\n",
       "    </tr>\n",
       "    <tr>\n",
       "      <th>1</th>\n",
       "      <td>Decision Tree</td>\n",
       "      <td>0.969697</td>\n",
       "      <td>0.981481</td>\n",
       "      <td>0.974603</td>\n",
       "      <td>0.003989</td>\n",
       "    </tr>\n",
       "    <tr>\n",
       "      <th>2</th>\n",
       "      <td>Random Forest</td>\n",
       "      <td>0.969697</td>\n",
       "      <td>0.981481</td>\n",
       "      <td>0.974603</td>\n",
       "      <td>0.008974</td>\n",
       "    </tr>\n",
       "    <tr>\n",
       "      <th>3</th>\n",
       "      <td>K-mearest</td>\n",
       "      <td>0.972222</td>\n",
       "      <td>0.966667</td>\n",
       "      <td>0.967963</td>\n",
       "      <td>0.004027</td>\n",
       "    </tr>\n",
       "  </tbody>\n",
       "</table>\n",
       "</div>"
      ],
      "text/plain": [
       "            name  precision    recall        F1      time\n",
       "0            SVM   1.000000  1.000000  1.000000  0.006881\n",
       "1  Decision Tree   0.969697  0.981481  0.974603  0.003989\n",
       "2  Random Forest   0.969697  0.981481  0.974603  0.008974\n",
       "3      K-mearest   0.972222  0.966667  0.967963  0.004027"
      ]
     },
     "execution_count": 68,
     "metadata": {},
     "output_type": "execute_result"
    }
   ],
   "source": [
    "# creating the summary data frame from frame_SVM ... frameK\n",
    "\n",
    "frames = [frame_SVM, frame_DT, frame_RF, frame_K]\n",
    "to_frame = []\n",
    "for frame in frames:\n",
    "    to_frame.append(list(frame[['name', 'precision', 'recall', 'F1', 'time']].iloc[3]))\n",
    "\n",
    "    \n",
    "frame_dec = pd.DataFrame(data = to_frame, columns = ['name', 'precision', 'recall', 'F1', 'time'])\n",
    "frame_dec\n",
    "                         "
   ]
  },
  {
   "cell_type": "markdown",
   "metadata": {},
   "source": [
    "Any of the models can be chosen, all of them works very well. (The high precision can be thanked to the small size of the dataset and that the data was clean and the clusters were distinct.) After a discussion with the class, we chose the K-nearest model to be tested live."
   ]
  },
  {
   "cell_type": "code",
   "execution_count": null,
   "metadata": {},
   "outputs": [],
   "source": []
  }
 ],
 "metadata": {
  "kernelspec": {
   "display_name": "Python 3",
   "language": "python",
   "name": "python3"
  },
  "language_info": {
   "codemirror_mode": {
    "name": "ipython",
    "version": 3
   },
   "file_extension": ".py",
   "mimetype": "text/x-python",
   "name": "python",
   "nbconvert_exporter": "python",
   "pygments_lexer": "ipython3",
   "version": "3.7.3"
  }
 },
 "nbformat": 4,
 "nbformat_minor": 2
}
